{
 "cells": [
  {
   "cell_type": "markdown",
   "id": "2acd231b",
   "metadata": {},
   "source": [
    " # Research of the best online courses\n",
    " "
   ]
  },
  {
   "cell_type": "markdown",
   "id": "36b34000",
   "metadata": {},
   "source": [
    "### Step 1. Import files and data preprocessing"
   ]
  },
  {
   "cell_type": "markdown",
   "id": "f723abd7",
   "metadata": {},
   "source": [
    "Uploading a table from a computer to a cloud service."
   ]
  },
  {
   "cell_type": "code",
   "execution_count": 1,
   "id": "8852897c",
   "metadata": {},
   "outputs": [],
   "source": [
    "import numpy as np\n",
    "import pandas as pd\n",
    "import matplotlib.pyplot as plt"
   ]
  },
  {
   "cell_type": "code",
   "execution_count": 2,
   "id": "9ca5ad13",
   "metadata": {},
   "outputs": [
    {
     "data": {
      "text/html": [
       "<div>\n",
       "<style scoped>\n",
       "    .dataframe tbody tr th:only-of-type {\n",
       "        vertical-align: middle;\n",
       "    }\n",
       "\n",
       "    .dataframe tbody tr th {\n",
       "        vertical-align: top;\n",
       "    }\n",
       "\n",
       "    .dataframe thead th {\n",
       "        text-align: right;\n",
       "    }\n",
       "</style>\n",
       "<table border=\"1\" class=\"dataframe\">\n",
       "  <thead>\n",
       "    <tr style=\"text-align: right;\">\n",
       "      <th></th>\n",
       "      <th>name</th>\n",
       "      <th>cost_in_rubles</th>\n",
       "      <th>lesson_name</th>\n",
       "      <th>duration_in_week</th>\n",
       "      <th>projects</th>\n",
       "      <th>site</th>\n",
       "    </tr>\n",
       "  </thead>\n",
       "  <tbody>\n",
       "    <tr>\n",
       "      <th>0</th>\n",
       "      <td>skill_factory</td>\n",
       "      <td>69000</td>\n",
       "      <td>data_analytic</td>\n",
       "      <td>24</td>\n",
       "      <td>4</td>\n",
       "      <td>https://skillfactory.ru/data-analytics</td>\n",
       "    </tr>\n",
       "    <tr>\n",
       "      <th>1</th>\n",
       "      <td>skillbox</td>\n",
       "      <td>95000</td>\n",
       "      <td>data_analytic</td>\n",
       "      <td>56</td>\n",
       "      <td>1</td>\n",
       "      <td>https://skillbox.ru/course/profession-data-ana...</td>\n",
       "    </tr>\n",
       "    <tr>\n",
       "      <th>2</th>\n",
       "      <td>yandex_praktikum</td>\n",
       "      <td>75000</td>\n",
       "      <td>data_analytic</td>\n",
       "      <td>24</td>\n",
       "      <td>3</td>\n",
       "      <td>https://praktikum.yandex.ru/profile/data-analyst/</td>\n",
       "    </tr>\n",
       "    <tr>\n",
       "      <th>3</th>\n",
       "      <td>netology</td>\n",
       "      <td>60000</td>\n",
       "      <td>system_analytic</td>\n",
       "      <td>72</td>\n",
       "      <td>6</td>\n",
       "      <td>https://netology.ru/programs/analytics-dwh#/</td>\n",
       "    </tr>\n",
       "    <tr>\n",
       "      <th>4</th>\n",
       "      <td>udemy</td>\n",
       "      <td>2290</td>\n",
       "      <td>power_bi</td>\n",
       "      <td>2</td>\n",
       "      <td>0</td>\n",
       "      <td>https://www.udemy.com/course/power-bi-v/</td>\n",
       "    </tr>\n",
       "    <tr>\n",
       "      <th>5</th>\n",
       "      <td>specialist</td>\n",
       "      <td>26950</td>\n",
       "      <td>power_bi</td>\n",
       "      <td>3</td>\n",
       "      <td>0</td>\n",
       "      <td>https://www.specialist.ru/course/m20780</td>\n",
       "    </tr>\n",
       "    <tr>\n",
       "      <th>6</th>\n",
       "      <td>specialist</td>\n",
       "      <td>39550</td>\n",
       "      <td>SQL</td>\n",
       "      <td>5</td>\n",
       "      <td>0</td>\n",
       "      <td>https://www.specialist.ru/course/m20761a</td>\n",
       "    </tr>\n",
       "    <tr>\n",
       "      <th>7</th>\n",
       "      <td>udemy</td>\n",
       "      <td>1790</td>\n",
       "      <td>SQL</td>\n",
       "      <td>1</td>\n",
       "      <td>0</td>\n",
       "      <td>https://www.udemy.com/course/sql-essentials-ru/</td>\n",
       "    </tr>\n",
       "    <tr>\n",
       "      <th>8</th>\n",
       "      <td>netology</td>\n",
       "      <td>96000</td>\n",
       "      <td>data_analytic</td>\n",
       "      <td>44</td>\n",
       "      <td>6</td>\n",
       "      <td>https://netology.ru/programs/data_analyst_ulti...</td>\n",
       "    </tr>\n",
       "    <tr>\n",
       "      <th>9</th>\n",
       "      <td>netology</td>\n",
       "      <td>84000</td>\n",
       "      <td>analytic_BI</td>\n",
       "      <td>44</td>\n",
       "      <td>6</td>\n",
       "      <td>https://netology.ru/programs/probusinessintell...</td>\n",
       "    </tr>\n",
       "  </tbody>\n",
       "</table>\n",
       "</div>"
      ],
      "text/plain": [
       "               name  cost_in_rubles      lesson_name  duration_in_week  \\\n",
       "0     skill_factory           69000    data_analytic                24   \n",
       "1          skillbox           95000    data_analytic                56   \n",
       "2  yandex_praktikum           75000    data_analytic                24   \n",
       "3          netology           60000  system_analytic                72   \n",
       "4             udemy            2290         power_bi                 2   \n",
       "5        specialist           26950         power_bi                 3   \n",
       "6        specialist           39550              SQL                 5   \n",
       "7             udemy            1790              SQL                 1   \n",
       "8          netology           96000    data_analytic                44   \n",
       "9          netology           84000      analytic_BI                44   \n",
       "\n",
       "   projects                                               site  \n",
       "0         4             https://skillfactory.ru/data-analytics  \n",
       "1         1  https://skillbox.ru/course/profession-data-ana...  \n",
       "2         3  https://praktikum.yandex.ru/profile/data-analyst/  \n",
       "3         6       https://netology.ru/programs/analytics-dwh#/  \n",
       "4         0           https://www.udemy.com/course/power-bi-v/  \n",
       "5         0            https://www.specialist.ru/course/m20780  \n",
       "6         0           https://www.specialist.ru/course/m20761a  \n",
       "7         0    https://www.udemy.com/course/sql-essentials-ru/  \n",
       "8         6  https://netology.ru/programs/data_analyst_ulti...  \n",
       "9         6  https://netology.ru/programs/probusinessintell...  "
      ]
     },
     "execution_count": 2,
     "metadata": {},
     "output_type": "execute_result"
    }
   ],
   "source": [
    "df = pd.read_csv('./lesson.csv')\n",
    "df"
   ]
  },
  {
   "cell_type": "markdown",
   "id": "1032943b",
   "metadata": {},
   "source": [
    "We visualize the table by the **'cost_in_rubles'** column."
   ]
  },
  {
   "cell_type": "code",
   "execution_count": 3,
   "id": "c30f7799",
   "metadata": {},
   "outputs": [
    {
     "data": {
      "image/png": "[encoded data removed]",
      "text/plain": [
       "<Figure size 432x288 with 1 Axes>"
      ]
     },
     "metadata": {
      "needs_background": "light"
     },
     "output_type": "display_data"
    }
   ],
   "source": [
    "plt.ylim(0,120000)\n",
    "df.boxplot(column='cost_in_rubles') \n",
    "plt.show()"
   ]
  },
  {
   "cell_type": "code",
   "execution_count": 4,
   "id": "677a8317",
   "metadata": {},
   "outputs": [
    {
     "name": "stdout",
     "output_type": "stream",
     "text": [
      "<class 'pandas.core.frame.DataFrame'>\n",
      "RangeIndex: 10 entries, 0 to 9\n",
      "Data columns (total 6 columns):\n",
      " #   Column            Non-Null Count  Dtype \n",
      "---  ------            --------------  ----- \n",
      " 0   name              10 non-null     object\n",
      " 1   cost_in_rubles    10 non-null     int64 \n",
      " 2   lesson_name       10 non-null     object\n",
      " 3   duration_in_week  10 non-null     int64 \n",
      " 4   projects          10 non-null     int64 \n",
      " 5   site              10 non-null     object\n",
      "dtypes: int64(3), object(3)\n",
      "memory usage: 608.0+ bytes\n"
     ]
    }
   ],
   "source": [
    "df.info()"
   ]
  },
  {
   "cell_type": "markdown",
   "id": "2aae0a8a",
   "metadata": {},
   "source": [
    "Using the **df.info()** function, we learned that:\n",
    "* tabel consists of 6 columns;\n",
    "* in each columns of 10 entries;\n",
    "* columns \"name\", \"lesson_name\", \"site\" is a type \"object\";\n",
    "* columns \"cost_in_rubles\", \"duration_in_week\", \"projects\" is a type \"int64\"."
   ]
  },
  {
   "cell_type": "code",
   "execution_count": 5,
   "id": "9a5f5a68",
   "metadata": {},
   "outputs": [
    {
     "data": {
      "text/plain": [
       "name                0\n",
       "cost_in_rubles      0\n",
       "lesson_name         0\n",
       "duration_in_week    0\n",
       "projects            0\n",
       "site                0\n",
       "dtype: int64"
      ]
     },
     "execution_count": 5,
     "metadata": {},
     "output_type": "execute_result"
    }
   ],
   "source": [
    "df.isnull().sum()"
   ]
  },
  {
   "cell_type": "code",
   "execution_count": 6,
   "id": "31dfa1b0",
   "metadata": {},
   "outputs": [
    {
     "data": {
      "text/plain": [
       "name                0\n",
       "cost_in_rubles      0\n",
       "lesson_name         0\n",
       "duration_in_week    0\n",
       "projects            0\n",
       "site                0\n",
       "dtype: int64"
      ]
     },
     "execution_count": 6,
     "metadata": {},
     "output_type": "execute_result"
    }
   ],
   "source": [
    "df.isna().sum()"
   ]
  },
  {
   "cell_type": "markdown",
   "id": "b72f813e",
   "metadata": {},
   "source": [
    "Using the **df.isnull().sum()** and **df.isna().sum()** function, we learned that:\n",
    "* table doesn`t consist null values;\n",
    "* table is convenient for further work."
   ]
  },
  {
   "cell_type": "markdown",
   "id": "2fc74829",
   "metadata": {},
   "source": [
    "### Step 2. Data analysis and comparison"
   ]
  },
  {
   "cell_type": "markdown",
   "id": "5316deed",
   "metadata": {},
   "source": [
    "For me, the main property of the course is its duration. "
   ]
  },
  {
   "cell_type": "code",
   "execution_count": 7,
   "id": "6a43cb3b",
   "metadata": {},
   "outputs": [
    {
     "data": {
      "image/png": "[encoded data removed]",
      "text/plain": [
       "<Figure size 432x288 with 1 Axes>"
      ]
     },
     "metadata": {
      "needs_background": "light"
     },
     "output_type": "display_data"
    }
   ],
   "source": [
    "plt.ylim(0,80)\n",
    "df.boxplot(column='duration_in_week') \n",
    "plt.show()"
   ]
  },
  {
   "cell_type": "markdown",
   "id": "f39a6dc4",
   "metadata": {},
   "source": [
    "For this reason first of all I delete lines that do not fit the conditions:\n",
    "**a duration of at least 4 weeks and no more than 80**.\n"
   ]
  },
  {
   "cell_type": "markdown",
   "id": "7c63dbbf",
   "metadata": {},
   "source": [
    "Let`s write function for this."
   ]
  },
  {
   "cell_type": "code",
   "execution_count": 8,
   "id": "01d48085",
   "metadata": {},
   "outputs": [
    {
     "data": {
      "text/html": [
       "<div>\n",
       "<style scoped>\n",
       "    .dataframe tbody tr th:only-of-type {\n",
       "        vertical-align: middle;\n",
       "    }\n",
       "\n",
       "    .dataframe tbody tr th {\n",
       "        vertical-align: top;\n",
       "    }\n",
       "\n",
       "    .dataframe thead th {\n",
       "        text-align: right;\n",
       "    }\n",
       "</style>\n",
       "<table border=\"1\" class=\"dataframe\">\n",
       "  <thead>\n",
       "    <tr style=\"text-align: right;\">\n",
       "      <th></th>\n",
       "      <th>index</th>\n",
       "      <th>name</th>\n",
       "      <th>cost_in_rubles</th>\n",
       "      <th>lesson_name</th>\n",
       "      <th>duration_in_week</th>\n",
       "      <th>projects</th>\n",
       "      <th>site</th>\n",
       "    </tr>\n",
       "  </thead>\n",
       "  <tbody>\n",
       "    <tr>\n",
       "      <th>0</th>\n",
       "      <td>0</td>\n",
       "      <td>skill_factory</td>\n",
       "      <td>69000</td>\n",
       "      <td>data_analytic</td>\n",
       "      <td>24</td>\n",
       "      <td>4</td>\n",
       "      <td>https://skillfactory.ru/data-analytics</td>\n",
       "    </tr>\n",
       "    <tr>\n",
       "      <th>1</th>\n",
       "      <td>1</td>\n",
       "      <td>skillbox</td>\n",
       "      <td>95000</td>\n",
       "      <td>data_analytic</td>\n",
       "      <td>56</td>\n",
       "      <td>1</td>\n",
       "      <td>https://skillbox.ru/course/profession-data-ana...</td>\n",
       "    </tr>\n",
       "    <tr>\n",
       "      <th>2</th>\n",
       "      <td>2</td>\n",
       "      <td>yandex_praktikum</td>\n",
       "      <td>75000</td>\n",
       "      <td>data_analytic</td>\n",
       "      <td>24</td>\n",
       "      <td>3</td>\n",
       "      <td>https://praktikum.yandex.ru/profile/data-analyst/</td>\n",
       "    </tr>\n",
       "    <tr>\n",
       "      <th>3</th>\n",
       "      <td>3</td>\n",
       "      <td>netology</td>\n",
       "      <td>60000</td>\n",
       "      <td>system_analytic</td>\n",
       "      <td>72</td>\n",
       "      <td>6</td>\n",
       "      <td>https://netology.ru/programs/analytics-dwh#/</td>\n",
       "    </tr>\n",
       "    <tr>\n",
       "      <th>4</th>\n",
       "      <td>6</td>\n",
       "      <td>specialist</td>\n",
       "      <td>39550</td>\n",
       "      <td>SQL</td>\n",
       "      <td>5</td>\n",
       "      <td>0</td>\n",
       "      <td>https://www.specialist.ru/course/m20761a</td>\n",
       "    </tr>\n",
       "    <tr>\n",
       "      <th>5</th>\n",
       "      <td>8</td>\n",
       "      <td>netology</td>\n",
       "      <td>96000</td>\n",
       "      <td>data_analytic</td>\n",
       "      <td>44</td>\n",
       "      <td>6</td>\n",
       "      <td>https://netology.ru/programs/data_analyst_ulti...</td>\n",
       "    </tr>\n",
       "    <tr>\n",
       "      <th>6</th>\n",
       "      <td>9</td>\n",
       "      <td>netology</td>\n",
       "      <td>84000</td>\n",
       "      <td>analytic_BI</td>\n",
       "      <td>44</td>\n",
       "      <td>6</td>\n",
       "      <td>https://netology.ru/programs/probusinessintell...</td>\n",
       "    </tr>\n",
       "  </tbody>\n",
       "</table>\n",
       "</div>"
      ],
      "text/plain": [
       "   index              name  cost_in_rubles      lesson_name  duration_in_week  \\\n",
       "0      0     skill_factory           69000    data_analytic                24   \n",
       "1      1          skillbox           95000    data_analytic                56   \n",
       "2      2  yandex_praktikum           75000    data_analytic                24   \n",
       "3      3          netology           60000  system_analytic                72   \n",
       "4      6        specialist           39550              SQL                 5   \n",
       "5      8          netology           96000    data_analytic                44   \n",
       "6      9          netology           84000      analytic_BI                44   \n",
       "\n",
       "   projects                                               site  \n",
       "0         4             https://skillfactory.ru/data-analytics  \n",
       "1         1  https://skillbox.ru/course/profession-data-ana...  \n",
       "2         3  https://praktikum.yandex.ru/profile/data-analyst/  \n",
       "3         6       https://netology.ru/programs/analytics-dwh#/  \n",
       "4         0           https://www.specialist.ru/course/m20761a  \n",
       "5         6  https://netology.ru/programs/data_analyst_ulti...  \n",
       "6         6  https://netology.ru/programs/probusinessintell...  "
      ]
     },
     "execution_count": 8,
     "metadata": {},
     "output_type": "execute_result"
    }
   ],
   "source": [
    "df = df.loc[(df['duration_in_week'] <= 80)&(df['duration_in_week'] >= 4)]\n",
    "df.reset_index()"
   ]
  },
  {
   "cell_type": "code",
   "execution_count": 9,
   "id": "abcd085b",
   "metadata": {},
   "outputs": [
    {
     "data": {
      "image/png": "[encoded data removed]",
      "text/plain": [
       "<Figure size 432x288 with 1 Axes>"
      ]
     },
     "metadata": {
      "needs_background": "light"
     },
     "output_type": "display_data"
    }
   ],
   "source": [
    "plt.ylim(0,80)\n",
    "df.boxplot(column='duration_in_week') \n",
    "plt.show()"
   ]
  },
  {
   "cell_type": "markdown",
   "id": "01359b5d",
   "metadata": {},
   "source": [
    "The number of projects was also an important factor. Sort the table in descending order of **projects**."
   ]
  },
  {
   "cell_type": "code",
   "execution_count": 10,
   "id": "c370c3bd",
   "metadata": {},
   "outputs": [
    {
     "data": {
      "image/png": "[encoded data removed]",
      "text/plain": [
       "<Figure size 432x288 with 1 Axes>"
      ]
     },
     "metadata": {
      "needs_background": "light"
     },
     "output_type": "display_data"
    }
   ],
   "source": [
    "plt.ylim(0,7)\n",
    "df.boxplot(column='projects') \n",
    "plt.show()"
   ]
  },
  {
   "cell_type": "code",
   "execution_count": 11,
   "id": "7b51104f",
   "metadata": {},
   "outputs": [
    {
     "data": {
      "text/html": [
       "<div>\n",
       "<style scoped>\n",
       "    .dataframe tbody tr th:only-of-type {\n",
       "        vertical-align: middle;\n",
       "    }\n",
       "\n",
       "    .dataframe tbody tr th {\n",
       "        vertical-align: top;\n",
       "    }\n",
       "\n",
       "    .dataframe thead th {\n",
       "        text-align: right;\n",
       "    }\n",
       "</style>\n",
       "<table border=\"1\" class=\"dataframe\">\n",
       "  <thead>\n",
       "    <tr style=\"text-align: right;\">\n",
       "      <th></th>\n",
       "      <th>name</th>\n",
       "      <th>cost_in_rubles</th>\n",
       "      <th>lesson_name</th>\n",
       "      <th>duration_in_week</th>\n",
       "      <th>projects</th>\n",
       "      <th>site</th>\n",
       "    </tr>\n",
       "  </thead>\n",
       "  <tbody>\n",
       "    <tr>\n",
       "      <th>3</th>\n",
       "      <td>netology</td>\n",
       "      <td>60000</td>\n",
       "      <td>system_analytic</td>\n",
       "      <td>72</td>\n",
       "      <td>6</td>\n",
       "      <td>https://netology.ru/programs/analytics-dwh#/</td>\n",
       "    </tr>\n",
       "    <tr>\n",
       "      <th>8</th>\n",
       "      <td>netology</td>\n",
       "      <td>96000</td>\n",
       "      <td>data_analytic</td>\n",
       "      <td>44</td>\n",
       "      <td>6</td>\n",
       "      <td>https://netology.ru/programs/data_analyst_ulti...</td>\n",
       "    </tr>\n",
       "    <tr>\n",
       "      <th>9</th>\n",
       "      <td>netology</td>\n",
       "      <td>84000</td>\n",
       "      <td>analytic_BI</td>\n",
       "      <td>44</td>\n",
       "      <td>6</td>\n",
       "      <td>https://netology.ru/programs/probusinessintell...</td>\n",
       "    </tr>\n",
       "    <tr>\n",
       "      <th>0</th>\n",
       "      <td>skill_factory</td>\n",
       "      <td>69000</td>\n",
       "      <td>data_analytic</td>\n",
       "      <td>24</td>\n",
       "      <td>4</td>\n",
       "      <td>https://skillfactory.ru/data-analytics</td>\n",
       "    </tr>\n",
       "    <tr>\n",
       "      <th>2</th>\n",
       "      <td>yandex_praktikum</td>\n",
       "      <td>75000</td>\n",
       "      <td>data_analytic</td>\n",
       "      <td>24</td>\n",
       "      <td>3</td>\n",
       "      <td>https://praktikum.yandex.ru/profile/data-analyst/</td>\n",
       "    </tr>\n",
       "    <tr>\n",
       "      <th>1</th>\n",
       "      <td>skillbox</td>\n",
       "      <td>95000</td>\n",
       "      <td>data_analytic</td>\n",
       "      <td>56</td>\n",
       "      <td>1</td>\n",
       "      <td>https://skillbox.ru/course/profession-data-ana...</td>\n",
       "    </tr>\n",
       "  </tbody>\n",
       "</table>\n",
       "</div>"
      ],
      "text/plain": [
       "               name  cost_in_rubles      lesson_name  duration_in_week  \\\n",
       "3          netology           60000  system_analytic                72   \n",
       "8          netology           96000    data_analytic                44   \n",
       "9          netology           84000      analytic_BI                44   \n",
       "0     skill_factory           69000    data_analytic                24   \n",
       "2  yandex_praktikum           75000    data_analytic                24   \n",
       "1          skillbox           95000    data_analytic                56   \n",
       "\n",
       "   projects                                               site  \n",
       "3         6       https://netology.ru/programs/analytics-dwh#/  \n",
       "8         6  https://netology.ru/programs/data_analyst_ulti...  \n",
       "9         6  https://netology.ru/programs/probusinessintell...  \n",
       "0         4             https://skillfactory.ru/data-analytics  \n",
       "2         3  https://praktikum.yandex.ru/profile/data-analyst/  \n",
       "1         1  https://skillbox.ru/course/profession-data-ana...  "
      ]
     },
     "execution_count": 11,
     "metadata": {},
     "output_type": "execute_result"
    }
   ],
   "source": [
    "df = df.sort_values('projects', ascending = False)\n",
    "df = df.loc[df['projects'] != 0]\n",
    "df"
   ]
  },
  {
   "cell_type": "code",
   "execution_count": 12,
   "id": "6fc875ff",
   "metadata": {},
   "outputs": [
    {
     "data": {
      "image/png": "[encoded data removed]",
      "text/plain": [
       "<Figure size 432x288 with 1 Axes>"
      ]
     },
     "metadata": {
      "needs_background": "light"
     },
     "output_type": "display_data"
    }
   ],
   "source": [
    "plt.ylim(0,7)\n",
    "df.boxplot(column='projects') \n",
    "plt.show()"
   ]
  },
  {
   "cell_type": "markdown",
   "id": "8382b6f3",
   "metadata": {},
   "source": [
    "According to the criterion **'projects'**, won three courses from netology."
   ]
  },
  {
   "cell_type": "code",
   "execution_count": 13,
   "id": "2f6e1128",
   "metadata": {},
   "outputs": [
    {
     "data": {
      "text/html": [
       "<div>\n",
       "<style scoped>\n",
       "    .dataframe tbody tr th:only-of-type {\n",
       "        vertical-align: middle;\n",
       "    }\n",
       "\n",
       "    .dataframe tbody tr th {\n",
       "        vertical-align: top;\n",
       "    }\n",
       "\n",
       "    .dataframe thead th {\n",
       "        text-align: right;\n",
       "    }\n",
       "</style>\n",
       "<table border=\"1\" class=\"dataframe\">\n",
       "  <thead>\n",
       "    <tr style=\"text-align: right;\">\n",
       "      <th></th>\n",
       "      <th>name</th>\n",
       "      <th>cost_in_rubles</th>\n",
       "      <th>lesson_name</th>\n",
       "      <th>duration_in_week</th>\n",
       "      <th>projects</th>\n",
       "      <th>site</th>\n",
       "    </tr>\n",
       "  </thead>\n",
       "  <tbody>\n",
       "    <tr>\n",
       "      <th>3</th>\n",
       "      <td>netology</td>\n",
       "      <td>60000</td>\n",
       "      <td>system_analytic</td>\n",
       "      <td>72</td>\n",
       "      <td>6</td>\n",
       "      <td>https://netology.ru/programs/analytics-dwh#/</td>\n",
       "    </tr>\n",
       "    <tr>\n",
       "      <th>8</th>\n",
       "      <td>netology</td>\n",
       "      <td>96000</td>\n",
       "      <td>data_analytic</td>\n",
       "      <td>44</td>\n",
       "      <td>6</td>\n",
       "      <td>https://netology.ru/programs/data_analyst_ulti...</td>\n",
       "    </tr>\n",
       "    <tr>\n",
       "      <th>9</th>\n",
       "      <td>netology</td>\n",
       "      <td>84000</td>\n",
       "      <td>analytic_BI</td>\n",
       "      <td>44</td>\n",
       "      <td>6</td>\n",
       "      <td>https://netology.ru/programs/probusinessintell...</td>\n",
       "    </tr>\n",
       "  </tbody>\n",
       "</table>\n",
       "</div>"
      ],
      "text/plain": [
       "       name  cost_in_rubles      lesson_name  duration_in_week  projects  \\\n",
       "3  netology           60000  system_analytic                72         6   \n",
       "8  netology           96000    data_analytic                44         6   \n",
       "9  netology           84000      analytic_BI                44         6   \n",
       "\n",
       "                                                site  \n",
       "3       https://netology.ru/programs/analytics-dwh#/  \n",
       "8  https://netology.ru/programs/data_analyst_ulti...  \n",
       "9  https://netology.ru/programs/probusinessintell...  "
      ]
     },
     "execution_count": 13,
     "metadata": {},
     "output_type": "execute_result"
    }
   ],
   "source": [
    "df.head(3)"
   ]
  },
  {
   "cell_type": "markdown",
   "id": "7e5edb88",
   "metadata": {},
   "source": [
    "At this stage of the study we don`t need a column **'site'** so we delete it and create a new one - **'value_of_the_week'**."
   ]
  },
  {
   "cell_type": "code",
   "execution_count": 14,
   "id": "dcf68811",
   "metadata": {},
   "outputs": [
    {
     "data": {
      "text/html": [
       "<div>\n",
       "<style scoped>\n",
       "    .dataframe tbody tr th:only-of-type {\n",
       "        vertical-align: middle;\n",
       "    }\n",
       "\n",
       "    .dataframe tbody tr th {\n",
       "        vertical-align: top;\n",
       "    }\n",
       "\n",
       "    .dataframe thead th {\n",
       "        text-align: right;\n",
       "    }\n",
       "</style>\n",
       "<table border=\"1\" class=\"dataframe\">\n",
       "  <thead>\n",
       "    <tr style=\"text-align: right;\">\n",
       "      <th></th>\n",
       "      <th>name</th>\n",
       "      <th>cost_in_rubles</th>\n",
       "      <th>lesson_name</th>\n",
       "      <th>duration_in_week</th>\n",
       "      <th>projects</th>\n",
       "    </tr>\n",
       "  </thead>\n",
       "  <tbody>\n",
       "    <tr>\n",
       "      <th>3</th>\n",
       "      <td>netology</td>\n",
       "      <td>60000</td>\n",
       "      <td>system_analytic</td>\n",
       "      <td>72</td>\n",
       "      <td>6</td>\n",
       "    </tr>\n",
       "    <tr>\n",
       "      <th>8</th>\n",
       "      <td>netology</td>\n",
       "      <td>96000</td>\n",
       "      <td>data_analytic</td>\n",
       "      <td>44</td>\n",
       "      <td>6</td>\n",
       "    </tr>\n",
       "    <tr>\n",
       "      <th>9</th>\n",
       "      <td>netology</td>\n",
       "      <td>84000</td>\n",
       "      <td>analytic_BI</td>\n",
       "      <td>44</td>\n",
       "      <td>6</td>\n",
       "    </tr>\n",
       "    <tr>\n",
       "      <th>0</th>\n",
       "      <td>skill_factory</td>\n",
       "      <td>69000</td>\n",
       "      <td>data_analytic</td>\n",
       "      <td>24</td>\n",
       "      <td>4</td>\n",
       "    </tr>\n",
       "    <tr>\n",
       "      <th>2</th>\n",
       "      <td>yandex_praktikum</td>\n",
       "      <td>75000</td>\n",
       "      <td>data_analytic</td>\n",
       "      <td>24</td>\n",
       "      <td>3</td>\n",
       "    </tr>\n",
       "    <tr>\n",
       "      <th>1</th>\n",
       "      <td>skillbox</td>\n",
       "      <td>95000</td>\n",
       "      <td>data_analytic</td>\n",
       "      <td>56</td>\n",
       "      <td>1</td>\n",
       "    </tr>\n",
       "  </tbody>\n",
       "</table>\n",
       "</div>"
      ],
      "text/plain": [
       "               name  cost_in_rubles      lesson_name  duration_in_week  \\\n",
       "3          netology           60000  system_analytic                72   \n",
       "8          netology           96000    data_analytic                44   \n",
       "9          netology           84000      analytic_BI                44   \n",
       "0     skill_factory           69000    data_analytic                24   \n",
       "2  yandex_praktikum           75000    data_analytic                24   \n",
       "1          skillbox           95000    data_analytic                56   \n",
       "\n",
       "   projects  \n",
       "3         6  \n",
       "8         6  \n",
       "9         6  \n",
       "0         4  \n",
       "2         3  \n",
       "1         1  "
      ]
     },
     "execution_count": 14,
     "metadata": {},
     "output_type": "execute_result"
    }
   ],
   "source": [
    "df = df.drop(['site'], axis='columns')\n",
    "df"
   ]
  },
  {
   "cell_type": "code",
   "execution_count": 15,
   "id": "8785bae6",
   "metadata": {},
   "outputs": [
    {
     "data": {
      "text/html": [
       "<div>\n",
       "<style scoped>\n",
       "    .dataframe tbody tr th:only-of-type {\n",
       "        vertical-align: middle;\n",
       "    }\n",
       "\n",
       "    .dataframe tbody tr th {\n",
       "        vertical-align: top;\n",
       "    }\n",
       "\n",
       "    .dataframe thead th {\n",
       "        text-align: right;\n",
       "    }\n",
       "</style>\n",
       "<table border=\"1\" class=\"dataframe\">\n",
       "  <thead>\n",
       "    <tr style=\"text-align: right;\">\n",
       "      <th></th>\n",
       "      <th>name</th>\n",
       "      <th>cost_in_rubles</th>\n",
       "      <th>lesson_name</th>\n",
       "      <th>duration_in_week</th>\n",
       "      <th>projects</th>\n",
       "      <th>value_of_the_week</th>\n",
       "    </tr>\n",
       "  </thead>\n",
       "  <tbody>\n",
       "    <tr>\n",
       "      <th>3</th>\n",
       "      <td>netology</td>\n",
       "      <td>60000</td>\n",
       "      <td>system_analytic</td>\n",
       "      <td>72</td>\n",
       "      <td>6</td>\n",
       "      <td>833</td>\n",
       "    </tr>\n",
       "    <tr>\n",
       "      <th>8</th>\n",
       "      <td>netology</td>\n",
       "      <td>96000</td>\n",
       "      <td>data_analytic</td>\n",
       "      <td>44</td>\n",
       "      <td>6</td>\n",
       "      <td>2181</td>\n",
       "    </tr>\n",
       "    <tr>\n",
       "      <th>9</th>\n",
       "      <td>netology</td>\n",
       "      <td>84000</td>\n",
       "      <td>analytic_BI</td>\n",
       "      <td>44</td>\n",
       "      <td>6</td>\n",
       "      <td>1909</td>\n",
       "    </tr>\n",
       "    <tr>\n",
       "      <th>0</th>\n",
       "      <td>skill_factory</td>\n",
       "      <td>69000</td>\n",
       "      <td>data_analytic</td>\n",
       "      <td>24</td>\n",
       "      <td>4</td>\n",
       "      <td>2875</td>\n",
       "    </tr>\n",
       "    <tr>\n",
       "      <th>2</th>\n",
       "      <td>yandex_praktikum</td>\n",
       "      <td>75000</td>\n",
       "      <td>data_analytic</td>\n",
       "      <td>24</td>\n",
       "      <td>3</td>\n",
       "      <td>3125</td>\n",
       "    </tr>\n",
       "    <tr>\n",
       "      <th>1</th>\n",
       "      <td>skillbox</td>\n",
       "      <td>95000</td>\n",
       "      <td>data_analytic</td>\n",
       "      <td>56</td>\n",
       "      <td>1</td>\n",
       "      <td>1696</td>\n",
       "    </tr>\n",
       "  </tbody>\n",
       "</table>\n",
       "</div>"
      ],
      "text/plain": [
       "               name  cost_in_rubles      lesson_name  duration_in_week  \\\n",
       "3          netology           60000  system_analytic                72   \n",
       "8          netology           96000    data_analytic                44   \n",
       "9          netology           84000      analytic_BI                44   \n",
       "0     skill_factory           69000    data_analytic                24   \n",
       "2  yandex_praktikum           75000    data_analytic                24   \n",
       "1          skillbox           95000    data_analytic                56   \n",
       "\n",
       "   projects  value_of_the_week  \n",
       "3         6                833  \n",
       "8         6               2181  \n",
       "9         6               1909  \n",
       "0         4               2875  \n",
       "2         3               3125  \n",
       "1         1               1696  "
      ]
     },
     "execution_count": 15,
     "metadata": {},
     "output_type": "execute_result"
    }
   ],
   "source": [
    "df['value_of_the_week'] = df['cost_in_rubles'] / df['duration_in_week']\n",
    "df = df.astype({'value_of_the_week': np.int64})\n",
    "df"
   ]
  },
  {
   "cell_type": "markdown",
   "id": "59d3aa0c",
   "metadata": {},
   "source": [
    "Now we can compare rates by value."
   ]
  },
  {
   "cell_type": "code",
   "execution_count": 16,
   "id": "21da95de",
   "metadata": {},
   "outputs": [
    {
     "data": {
      "text/html": [
       "<div>\n",
       "<style scoped>\n",
       "    .dataframe tbody tr th:only-of-type {\n",
       "        vertical-align: middle;\n",
       "    }\n",
       "\n",
       "    .dataframe tbody tr th {\n",
       "        vertical-align: top;\n",
       "    }\n",
       "\n",
       "    .dataframe thead th {\n",
       "        text-align: right;\n",
       "    }\n",
       "</style>\n",
       "<table border=\"1\" class=\"dataframe\">\n",
       "  <thead>\n",
       "    <tr style=\"text-align: right;\">\n",
       "      <th></th>\n",
       "      <th>lesson_name</th>\n",
       "      <th>duration_in_week</th>\n",
       "      <th>value_of_the_week</th>\n",
       "    </tr>\n",
       "  </thead>\n",
       "  <tbody>\n",
       "    <tr>\n",
       "      <th>3</th>\n",
       "      <td>system_analytic</td>\n",
       "      <td>72</td>\n",
       "      <td>833</td>\n",
       "    </tr>\n",
       "    <tr>\n",
       "      <th>9</th>\n",
       "      <td>analytic_BI</td>\n",
       "      <td>44</td>\n",
       "      <td>1909</td>\n",
       "    </tr>\n",
       "    <tr>\n",
       "      <th>8</th>\n",
       "      <td>data_analytic</td>\n",
       "      <td>44</td>\n",
       "      <td>2181</td>\n",
       "    </tr>\n",
       "  </tbody>\n",
       "</table>\n",
       "</div>"
      ],
      "text/plain": [
       "       lesson_name  duration_in_week  value_of_the_week\n",
       "3  system_analytic                72                833\n",
       "9      analytic_BI                44               1909\n",
       "8    data_analytic                44               2181"
      ]
     },
     "execution_count": 16,
     "metadata": {},
     "output_type": "execute_result"
    }
   ],
   "source": [
    "df1 = df.head(3)\n",
    "df1 = df1.sort_values('value_of_the_week', ascending = True)\n",
    "df1 = df1.drop(['name','projects','cost_in_rubles'], axis='columns')\n",
    "df1"
   ]
  },
  {
   "cell_type": "markdown",
   "id": "69e92302",
   "metadata": {},
   "source": [
    "Сompare the rest of the courses and choose the best among them."
   ]
  },
  {
   "cell_type": "code",
   "execution_count": 17,
   "id": "a05346c7",
   "metadata": {},
   "outputs": [
    {
     "data": {
      "text/html": [
       "<div>\n",
       "<style scoped>\n",
       "    .dataframe tbody tr th:only-of-type {\n",
       "        vertical-align: middle;\n",
       "    }\n",
       "\n",
       "    .dataframe tbody tr th {\n",
       "        vertical-align: top;\n",
       "    }\n",
       "\n",
       "    .dataframe thead th {\n",
       "        text-align: right;\n",
       "    }\n",
       "</style>\n",
       "<table border=\"1\" class=\"dataframe\">\n",
       "  <thead>\n",
       "    <tr style=\"text-align: right;\">\n",
       "      <th></th>\n",
       "      <th>name</th>\n",
       "      <th>cost_in_rubles</th>\n",
       "      <th>duration_in_week</th>\n",
       "      <th>projects</th>\n",
       "      <th>value_of_the_week</th>\n",
       "    </tr>\n",
       "  </thead>\n",
       "  <tbody>\n",
       "    <tr>\n",
       "      <th>1</th>\n",
       "      <td>skillbox</td>\n",
       "      <td>95000</td>\n",
       "      <td>56</td>\n",
       "      <td>1</td>\n",
       "      <td>1696</td>\n",
       "    </tr>\n",
       "    <tr>\n",
       "      <th>0</th>\n",
       "      <td>skill_factory</td>\n",
       "      <td>69000</td>\n",
       "      <td>24</td>\n",
       "      <td>4</td>\n",
       "      <td>2875</td>\n",
       "    </tr>\n",
       "    <tr>\n",
       "      <th>2</th>\n",
       "      <td>yandex_praktikum</td>\n",
       "      <td>75000</td>\n",
       "      <td>24</td>\n",
       "      <td>3</td>\n",
       "      <td>3125</td>\n",
       "    </tr>\n",
       "  </tbody>\n",
       "</table>\n",
       "</div>"
      ],
      "text/plain": [
       "               name  cost_in_rubles  duration_in_week  projects  \\\n",
       "1          skillbox           95000                56         1   \n",
       "0     skill_factory           69000                24         4   \n",
       "2  yandex_praktikum           75000                24         3   \n",
       "\n",
       "   value_of_the_week  \n",
       "1               1696  \n",
       "0               2875  \n",
       "2               3125  "
      ]
     },
     "execution_count": 17,
     "metadata": {},
     "output_type": "execute_result"
    }
   ],
   "source": [
    "df2 = df.tail(3)\n",
    "df2 = df2.drop(['lesson_name'], axis='columns')\n",
    "df2 = df2.sort_values('value_of_the_week', ascending = True)\n",
    "df2"
   ]
  },
  {
   "cell_type": "markdown",
   "id": "50dbacc8",
   "metadata": {},
   "source": [
    "### Step 3. Results and conclusions"
   ]
  },
  {
   "cell_type": "markdown",
   "id": "fed7a511",
   "metadata": {},
   "source": [
    "We analyzed and identified the best courses comparing them on different factors."
   ]
  },
  {
   "cell_type": "markdown",
   "id": "f18a6b3c",
   "metadata": {},
   "source": [
    "According to the criterion **'projects'**, won three courses from netology."
   ]
  },
  {
   "cell_type": "code",
   "execution_count": 18,
   "id": "39a22606",
   "metadata": {},
   "outputs": [
    {
     "data": {
      "text/plain": [
       "[<matplotlib.lines.Line2D at 0x1fb2ca41fa0>]"
      ]
     },
     "execution_count": 18,
     "metadata": {},
     "output_type": "execute_result"
    },
    {
     "data": {
      "image/png": "[encoded data removed]",
      "text/plain": [
       "<Figure size 1080x576 with 1 Axes>"
      ]
     },
     "metadata": {
      "needs_background": "light"
     },
     "output_type": "display_data"
    }
   ],
   "source": [
    "plt.figure(figsize=(15, 8))\n",
    "x = df1['lesson_name']\n",
    "y = df1['duration_in_week']\n",
    "plt.title('Duration of courses') \n",
    "plt.xlabel('lesson_name') \n",
    "plt.ylabel('duration_in_week') \n",
    "plt.grid()      \n",
    "plt.plot(x, y, \"o-\")"
   ]
  },
  {
   "cell_type": "markdown",
   "id": "15745e3c",
   "metadata": {},
   "source": [
    "Thus we learned that:\n",
    "\n",
    "* the duration of courses depends on the specialty of the course;\n",
    "* specialty **\"system analyst\"** is the most difficult;\n",
    "* more knowledge is given in the **\"system analist\"** specialty than in other specialties."
   ]
  },
  {
   "cell_type": "code",
   "execution_count": 19,
   "id": "6c95e1c7",
   "metadata": {},
   "outputs": [
    {
     "data": {
      "text/plain": [
       "[<matplotlib.lines.Line2D at 0x1fb2c93d5e0>]"
      ]
     },
     "execution_count": 19,
     "metadata": {},
     "output_type": "execute_result"
    },
    {
     "data": {
      "image/png": "[encoded data removed]",
      "text/plain": [
       "<Figure size 1080x576 with 1 Axes>"
      ]
     },
     "metadata": {
      "needs_background": "light"
     },
     "output_type": "display_data"
    }
   ],
   "source": [
    "plt.figure(figsize=(15, 8))\n",
    "x = df1['lesson_name']\n",
    "y = df1['value_of_the_week']\n",
    "plt.title('Value of courses') \n",
    "plt.xlabel('lesson_name') \n",
    "plt.ylabel('value_of_the_week') \n",
    "plt.grid()      \n",
    "plt.plot(x, y, \"o-\")"
   ]
  },
  {
   "cell_type": "markdown",
   "id": "74539354",
   "metadata": {},
   "source": [
    "We can draw such conclusions:\n",
    "* the cost of courses depends on the specialty of the course;\n",
    "* specialty **data analyst** is more popular than **BI analyst**.\n"
   ]
  },
  {
   "cell_type": "code",
   "execution_count": 20,
   "id": "fdde3541",
   "metadata": {},
   "outputs": [
    {
     "data": {
      "text/plain": [
       "[<matplotlib.lines.Line2D at 0x1fb2cb4caf0>]"
      ]
     },
     "execution_count": 20,
     "metadata": {},
     "output_type": "execute_result"
    },
    {
     "data": {
      "image/png": "[encoded data removed]",
      "text/plain": [
       "<Figure size 1080x576 with 1 Axes>"
      ]
     },
     "metadata": {
      "needs_background": "light"
     },
     "output_type": "display_data"
    }
   ],
   "source": [
    "plt.figure(figsize=(15, 8))\n",
    "y = df1['duration_in_week']\n",
    "x = df1['value_of_the_week']\n",
    "plt.title('value / duration') \n",
    "plt.ylabel('duration_in_week') \n",
    "plt.xlabel('value_of_the_week') \n",
    "plt.grid()      \n",
    "plt.plot(x, y, \"o-\")"
   ]
  },
  {
   "cell_type": "markdown",
   "id": "e164a010",
   "metadata": {},
   "source": [
    "Thanks to the graph, we can see the correlation between **'value_of_the_week'** and **'duration_in_week'**. The longer the duration, the lower the cost.\n"
   ]
  },
  {
   "cell_type": "markdown",
   "id": "2fb31550",
   "metadata": {},
   "source": [
    "Specialty of **\"system analyst\"** is the longest and cheapest."
   ]
  },
  {
   "cell_type": "markdown",
   "id": "85503117",
   "metadata": {},
   "source": [
    "### I think I would like to choose **\"system analyst\"** among these courses."
   ]
  },
  {
   "cell_type": "code",
   "execution_count": 21,
   "id": "f90b0e82",
   "metadata": {},
   "outputs": [
    {
     "data": {
      "text/plain": [
       "[<matplotlib.lines.Line2D at 0x1fb2cbc85e0>]"
      ]
     },
     "execution_count": 21,
     "metadata": {},
     "output_type": "execute_result"
    },
    {
     "data": {
      "image/png": "[encoded data removed]",
      "text/plain": [
       "<Figure size 1080x576 with 1 Axes>"
      ]
     },
     "metadata": {
      "needs_background": "light"
     },
     "output_type": "display_data"
    }
   ],
   "source": [
    "plt.figure(figsize=(15, 8))\n",
    "x = df2['name']\n",
    "y = df2['duration_in_week']\n",
    "plt.title('Duration of courses') \n",
    "plt.xlabel('lesson_name') \n",
    "plt.ylabel('duration_in_week') \n",
    "plt.grid()      \n",
    "plt.plot(x, y, \"o-\")"
   ]
  },
  {
   "cell_type": "markdown",
   "id": "1b9a667a",
   "metadata": {},
   "source": [
    "We can draw such conclusions:\n",
    "* the **'skillbox'** course is the longest;\n",
    "* courses **'skill factory'** and **'yandex praktikum'** have the same duration;\n",
    "* in course **'skillbox'**, more knowledge is given."
   ]
  },
  {
   "cell_type": "code",
   "execution_count": 22,
   "id": "a8f73680",
   "metadata": {},
   "outputs": [
    {
     "data": {
      "text/plain": [
       "[<matplotlib.lines.Line2D at 0x1fb2cdd9400>]"
      ]
     },
     "execution_count": 22,
     "metadata": {},
     "output_type": "execute_result"
    },
    {
     "data": {
      "image/png": "[encoded data removed]",
      "text/plain": [
       "<Figure size 1080x576 with 1 Axes>"
      ]
     },
     "metadata": {
      "needs_background": "light"
     },
     "output_type": "display_data"
    }
   ],
   "source": [
    "plt.figure(figsize=(15, 8))\n",
    "x = df2['name']\n",
    "y = df2['value_of_the_week']\n",
    "plt.title('Value of courses') \n",
    "plt.xlabel('name') \n",
    "plt.ylabel('value_of_the_week') \n",
    "plt.grid()      \n",
    "plt.plot(x, y, \"o-\")"
   ]
  },
  {
   "cell_type": "markdown",
   "id": "07c22489",
   "metadata": {},
   "source": [
    "Thus we learned that:\n",
    "* courses **'yandex praktikum'** is the most expensive;\n",
    "* courses **'yandex praktikum'** and **'skill factory'** cost twice as much as course **'skillbox'**.\n"
   ]
  },
  {
   "cell_type": "code",
   "execution_count": 23,
   "id": "d98f6a63",
   "metadata": {},
   "outputs": [
    {
     "data": {
      "text/plain": [
       "[<matplotlib.lines.Line2D at 0x1fb2d398760>]"
      ]
     },
     "execution_count": 23,
     "metadata": {},
     "output_type": "execute_result"
    },
    {
     "data": {
      "image/png": "[encoded data removed]",
      "text/plain": [
       "<Figure size 1080x576 with 1 Axes>"
      ]
     },
     "metadata": {
      "needs_background": "light"
     },
     "output_type": "display_data"
    }
   ],
   "source": [
    "plt.figure(figsize=(15, 8))\n",
    "y = df2['duration_in_week']\n",
    "x = df2['value_of_the_week']\n",
    "plt.title('value / duration') \n",
    "plt.ylabel('duration_in_week') \n",
    "plt.xlabel('value_of_the_week') \n",
    "plt.grid()      \n",
    "plt.plot(x, y, \"o-\")"
   ]
  },
  {
   "cell_type": "markdown",
   "id": "8cc59229",
   "metadata": {},
   "source": [
    "Thanks to the graph, we can see again the correlation between **'value_of_the_week'** and **'duration_in_week'**. The longer the duration, the lower the cost.\n"
   ]
  },
  {
   "cell_type": "code",
   "execution_count": 24,
   "id": "a4ca287e",
   "metadata": {},
   "outputs": [
    {
     "data": {
      "text/plain": [
       "[<matplotlib.lines.Line2D at 0x1fb2d7b5f40>]"
      ]
     },
     "execution_count": 24,
     "metadata": {},
     "output_type": "execute_result"
    },
    {
     "data": {
      "image/png": "[encoded data removed]",
      "text/plain": [
       "<Figure size 1080x576 with 1 Axes>"
      ]
     },
     "metadata": {
      "needs_background": "light"
     },
     "output_type": "display_data"
    }
   ],
   "source": [
    "plt.figure(figsize=(15, 8))\n",
    "y = df2['projects']\n",
    "x = df2['value_of_the_week']\n",
    "plt.title('value / project') \n",
    "plt.ylabel('projects') \n",
    "plt.xlabel('value_of_the_week') \n",
    "plt.grid()      \n",
    "plt.plot(x, y, \"o-\")"
   ]
  },
  {
   "cell_type": "markdown",
   "id": "812235b7",
   "metadata": {},
   "source": [
    "Among this courses, I consider **'skill_factory'** the best."
   ]
  },
  {
   "cell_type": "markdown",
   "id": "ae2d4a54",
   "metadata": {},
   "source": [
    "### Among all the courses, we found a pattern: the longer the duration, the lower the cost."
   ]
  },
  {
   "cell_type": "code",
   "execution_count": 25,
   "id": "4f08b593",
   "metadata": {},
   "outputs": [
    {
     "data": {
      "text/plain": [
       "[<matplotlib.lines.Line2D at 0x1fb2da8f850>]"
      ]
     },
     "execution_count": 25,
     "metadata": {},
     "output_type": "execute_result"
    },
    {
     "data": {
      "image/png": "[encoded data removed]",
      "text/plain": [
       "<Figure size 1080x576 with 1 Axes>"
      ]
     },
     "metadata": {
      "needs_background": "light"
     },
     "output_type": "display_data"
    }
   ],
   "source": [
    "plt.figure(figsize=(15, 8))\n",
    "y = df['duration_in_week']\n",
    "x = df['value_of_the_week']\n",
    "plt.title('value / duration') \n",
    "plt.ylabel('duration_in_week') \n",
    "plt.xlabel('value_of_the_week') \n",
    "plt.grid()      \n",
    "plt.plot(x, y, \"o\")"
   ]
  },
  {
   "cell_type": "markdown",
   "id": "32fa6ac9",
   "metadata": {},
   "source": [
    "### Among all the courses, we did not find a pattern between the number of projects and the cost."
   ]
  },
  {
   "cell_type": "code",
   "execution_count": 26,
   "id": "fdbde03b",
   "metadata": {},
   "outputs": [
    {
     "data": {
      "text/plain": [
       "[<matplotlib.lines.Line2D at 0x1fb2d9fb4f0>]"
      ]
     },
     "execution_count": 26,
     "metadata": {},
     "output_type": "execute_result"
    },
    {
     "data": {
      "image/png": "[encoded data removed]",
      "text/plain": [
       "<Figure size 1080x576 with 1 Axes>"
      ]
     },
     "metadata": {
      "needs_background": "light"
     },
     "output_type": "display_data"
    }
   ],
   "source": [
    "plt.figure(figsize=(15, 8))\n",
    "y = df['projects']\n",
    "x = df['value_of_the_week']\n",
    "plt.title('value / project') \n",
    "plt.ylabel('projects') \n",
    "plt.xlabel('value_of_the_week') \n",
    "plt.grid()      \n",
    "plt.plot(x, y, \"o\")"
   ]
  },
  {
   "cell_type": "markdown",
   "id": "a0a7d074",
   "metadata": {},
   "source": [
    "Among all the courses, the best in terms of the number of projects, cost and duration were courses **\"system analyst\"** from **Netology** and **\"data analyst\"** from **Skill factory**."
   ]
  },
  {
   "cell_type": "markdown",
   "id": "5e872f2b",
   "metadata": {},
   "source": [
    "Thank you for watching and have a nice day :)"
   ]
  },
  {
   "cell_type": "markdown",
   "id": "27d79643",
   "metadata": {},
   "source": [
    "![](cat.jpg)"
   ]
  }
 ],
 "metadata": {
  "kernelspec": {
   "display_name": "Python 3",
   "language": "python",
   "name": "python3"
  },
  "language_info": {
   "codemirror_mode": {
    "name": "ipython",
    "version": 3
   },
   "file_extension": ".py",
   "mimetype": "text/x-python",
   "name": "python",
   "nbconvert_exporter": "python",
   "pygments_lexer": "ipython3",
   "version": "3.8.8"
  }
 },
 "nbformat": 4,
 "nbformat_minor": 5
}
